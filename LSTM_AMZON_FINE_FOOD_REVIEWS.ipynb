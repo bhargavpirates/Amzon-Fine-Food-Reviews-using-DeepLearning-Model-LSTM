{
  "nbformat": 4,
  "nbformat_minor": 0,
  "metadata": {
    "colab": {
      "name": "LSTM AMZON FINE FOOD REVIEWS_Completed.ipynb",
      "version": "0.3.2",
      "provenance": [],
      "collapsed_sections": []
    },
    "kernelspec": {
      "name": "python3",
      "display_name": "Python 3"
    },
    "accelerator": "GPU"
  },
  "cells": [
    {
      "metadata": {
        "id": "PBYbbGI8jasE",
        "colab_type": "code",
        "colab": {}
      },
      "cell_type": "code",
      "source": [
        "%matplotlib inline\n",
        "import warnings\n",
        "warnings.filterwarnings(\"ignore\")\n",
        "\n",
        "\n",
        "import sqlite3\n",
        "import pandas as pd\n",
        "import numpy as np\n",
        "import nltk\n",
        "import string\n",
        "import matplotlib.pyplot as plt\n",
        "import seaborn as sns\n",
        "\n",
        "import string\n",
        "from nltk.corpus import stopwords\n",
        "from nltk.stem import PorterStemmer\n",
        "from nltk.stem.wordnet import WordNetLemmatizer\n",
        "import pickle\n",
        "\n",
        "from tqdm import tqdm\n",
        "import os"
      ],
      "execution_count": 0,
      "outputs": []
    },
    {
      "metadata": {
        "id": "ocHE3OgUHgs3",
        "colab_type": "code",
        "outputId": "4e619ef1-4674-42ff-801e-6b6ff25c8a7a",
        "colab": {
          "base_uri": "https://localhost:8080/",
          "height": 34
        }
      },
      "cell_type": "code",
      "source": [
        "# Credits: https://machinelearningmastery.com/sequence-classification-lstm-recurrent-neural-networks-python-keras/\n",
        "# LSTM for sequence classification in the IMDB dataset\n",
        "import numpy\n",
        "from keras.datasets import imdb\n",
        "from keras.models import Sequential\n",
        "from keras.layers import Dense\n",
        "from keras.layers import LSTM\n",
        "from keras.layers.embeddings import Embedding\n",
        "from keras.preprocessing import sequence\n",
        "# fix random seed for reproducibility\n",
        "numpy.random.seed(7)"
      ],
      "execution_count": 9,
      "outputs": [
        {
          "output_type": "stream",
          "text": [
            "Using TensorFlow backend.\n"
          ],
          "name": "stderr"
        }
      ]
    },
    {
      "metadata": {
        "id": "kRYc6mMY9H-9",
        "colab_type": "code",
        "colab": {
          "base_uri": "https://localhost:8080/",
          "height": 122
        },
        "outputId": "bef072bd-4442-4df3-d929-58b7f30cc275"
      },
      "cell_type": "code",
      "source": [
        "from google.colab import drive\n",
        "drive.mount('/content/drive')"
      ],
      "execution_count": 10,
      "outputs": [
        {
          "output_type": "stream",
          "text": [
            "Go to this URL in a browser: https://accounts.google.com/o/oauth2/auth?client_id=947318989803-6bn6qk8qdgf4n4g3pfee6491hc0brc4i.apps.googleusercontent.com&redirect_uri=urn%3Aietf%3Awg%3Aoauth%3A2.0%3Aoob&scope=email%20https%3A%2F%2Fwww.googleapis.com%2Fauth%2Fdocs.test%20https%3A%2F%2Fwww.googleapis.com%2Fauth%2Fdrive%20https%3A%2F%2Fwww.googleapis.com%2Fauth%2Fdrive.photos.readonly%20https%3A%2F%2Fwww.googleapis.com%2Fauth%2Fpeopleapi.readonly&response_type=code\n",
            "\n",
            "Enter your authorization code:\n",
            "··········\n",
            "Mounted at /content/drive\n"
          ],
          "name": "stdout"
        }
      ]
    },
    {
      "metadata": {
        "id": "tspcmoEr9MDh",
        "colab_type": "code",
        "colab": {}
      },
      "cell_type": "code",
      "source": [
        "!cp \"/content/drive/My Drive/database.sqlite\" \"database.sqlite\""
      ],
      "execution_count": 0,
      "outputs": []
    },
    {
      "metadata": {
        "id": "5RY-kvgUGTF9",
        "colab_type": "code",
        "colab": {
          "base_uri": "https://localhost:8080/",
          "height": 85
        },
        "outputId": "42cf04e0-fffa-4325-e72a-67be1e8b293b"
      },
      "cell_type": "code",
      "source": [
        "from bs4 import BeautifulSoup\n",
        "con = sqlite3.connect('database.sqlite') \n",
        "\n",
        "filtered_data = pd.read_sql_query(\"\"\" SELECT * FROM Reviews WHERE Score != 3 \"\"\", con) \n",
        "\n",
        "# Give reviews with Score>3 a positive rating(1), and reviews with a score<3 a negative rating(0).\n",
        "def partition(x):\n",
        "    if x < 3:\n",
        "        return 0\n",
        "    return 1\n",
        "\n",
        "#changing reviews with score less than 3 to be positive and vice-versa\n",
        "actualScore = filtered_data['Score']\n",
        "positiveNegative = actualScore.map(partition) \n",
        "filtered_data['Score'] = positiveNegative\n",
        "print(\"Number of data points in our data\", filtered_data.shape)\n",
        "filtered_data.head(3)\n",
        "\n",
        "#Sorting data according to ProductId in ascending order\n",
        "sorted_data=filtered_data.sort_values('ProductId', axis=0, ascending=True, inplace=False, kind='quicksort', na_position='last')\n",
        "\n",
        "#Deduplication of entries\n",
        "final=sorted_data.drop_duplicates(subset={\"UserId\",\"ProfileName\",\"Time\",\"Text\"}, keep='first', inplace=False)\n",
        "print(final.shape)\n",
        "\n",
        "#Checking to see how much % of data still remains\n",
        "(final['Id'].size*1.0)/(filtered_data['Id'].size*1.0)*100\n",
        "\n",
        "final=final[final.HelpfulnessNumerator<=final.HelpfulnessDenominator]\n",
        "#Before starting the next phase of preprocessing lets see the number of entries left\n",
        "print(final.shape)\n",
        "\n",
        "#How many positive and negative reviews are present in our dataset?\n",
        "final['Score'].value_counts()\n",
        "\n",
        "\n",
        "\n",
        "import re\n",
        "\n",
        "def decontracted(phrase):\n",
        "    # specific\n",
        "    phrase = re.sub(r\"won't\", \"will not\", phrase)\n",
        "    phrase = re.sub(r\"can\\'t\", \"can not\", phrase)\n",
        "\n",
        "    # general\n",
        "    phrase = re.sub(r\"n\\'t\", \" not\", phrase)\n",
        "    phrase = re.sub(r\"\\'re\", \" are\", phrase)\n",
        "    phrase = re.sub(r\"\\'s\", \" is\", phrase)\n",
        "    phrase = re.sub(r\"\\'d\", \" would\", phrase)\n",
        "    phrase = re.sub(r\"\\'ll\", \" will\", phrase)\n",
        "    phrase = re.sub(r\"\\'t\", \" not\", phrase)\n",
        "    phrase = re.sub(r\"\\'ve\", \" have\", phrase)\n",
        "    phrase = re.sub(r\"\\'m\", \" am\", phrase)\n",
        "    return phrase\n",
        "  \n",
        "  \n",
        " # Combining all the above stundents \n",
        "from tqdm import tqdm\n",
        "preprocessed_reviews = []\n",
        "# tqdm is for printing the status bar\n",
        "for sentance in tqdm(final['Text'].values):\n",
        "    sentance = re.sub(r\"http\\S+\", \"\", sentance)\n",
        "    sentance = BeautifulSoup(sentance, 'lxml').get_text()\n",
        "    sentance = decontracted(sentance)\n",
        "    sentance = re.sub(\"\\S*\\d\\S*\", \"\", sentance).strip()\n",
        "    sentance = re.sub('[^A-Za-z]+', ' ', sentance)\n",
        "    # https://gist.github.com/sebleier/554280\n",
        "    #sentance = ' '.join(e.lower() for e in sentance.split() if e.lower() not in stopwords)\n",
        "    preprocessed_reviews.append(sentance.strip())"
      ],
      "execution_count": 12,
      "outputs": [
        {
          "output_type": "stream",
          "text": [
            "Number of data points in our data (525814, 10)\n"
          ],
          "name": "stdout"
        },
        {
          "output_type": "stream",
          "text": [
            "\r  0%|          | 0/364171 [00:00<?, ?it/s]"
          ],
          "name": "stderr"
        },
        {
          "output_type": "stream",
          "text": [
            "(364173, 10)\n",
            "(364171, 10)\n"
          ],
          "name": "stdout"
        },
        {
          "output_type": "stream",
          "text": [
            "100%|██████████| 364171/364171 [02:32<00:00, 2382.16it/s]\n"
          ],
          "name": "stderr"
        }
      ]
    },
    {
      "metadata": {
        "id": "p0kACi6Z9X3c",
        "colab_type": "code",
        "outputId": "a2bb5764-66a7-48db-a17a-38af8ccf16eb",
        "colab": {
          "base_uri": "https://localhost:8080/",
          "height": 85
        }
      },
      "cell_type": "code",
      "source": [
        "from bs4 import BeautifulSoup\n",
        "con = sqlite3.connect('database.sqlite') \n",
        "\n",
        "filtered_data = pd.read_sql_query(\"\"\" SELECT * FROM Reviews WHERE Score != 3 \"\"\", con) \n",
        "\n",
        "# Give reviews with Score>3 a positive rating(1), and reviews with a score<3 a negative rating(0).\n",
        "def partition(x):\n",
        "    if x < 3:\n",
        "        return 0\n",
        "    return 1\n",
        "\n",
        "#changing reviews with score less than 3 to be positive and vice-versa\n",
        "actualScore = filtered_data['Score']\n",
        "positiveNegative = actualScore.map(partition) \n",
        "filtered_data['Score'] = positiveNegative\n",
        "print(\"Number of data points in our data\", filtered_data.shape)\n",
        "filtered_data.head(3)\n",
        "\n",
        "#Sorting data according to ProductId in ascending order\n",
        "sorted_data=filtered_data.sort_values('ProductId', axis=0, ascending=True, inplace=False, kind='quicksort', na_position='last')\n",
        "\n",
        "#Deduplication of entries\n",
        "final=sorted_data.drop_duplicates(subset={\"UserId\",\"ProfileName\",\"Time\",\"Text\"}, keep='first', inplace=False)\n",
        "print(final.shape)\n",
        "\n",
        "#Checking to see how much % of data still remains\n",
        "(final['Id'].size*1.0)/(filtered_data['Id'].size*1.0)*100\n",
        "\n",
        "final=final[final.HelpfulnessNumerator<=final.HelpfulnessDenominator]\n",
        "#Before starting the next phase of preprocessing lets see the number of entries left\n",
        "print(final.shape)\n",
        "\n",
        "#How many positive and negative reviews are present in our dataset?\n",
        "final['Score'].value_counts()\n",
        "\n",
        "\n",
        "\n",
        "import re\n",
        "\n",
        "def decontracted(phrase):\n",
        "    # specific\n",
        "    phrase = re.sub(r\"won't\", \"will not\", phrase)\n",
        "    phrase = re.sub(r\"can\\'t\", \"can not\", phrase)\n",
        "\n",
        "    # general\n",
        "    phrase = re.sub(r\"n\\'t\", \" not\", phrase)\n",
        "    phrase = re.sub(r\"\\'re\", \" are\", phrase)\n",
        "    phrase = re.sub(r\"\\'s\", \" is\", phrase)\n",
        "    phrase = re.sub(r\"\\'d\", \" would\", phrase)\n",
        "    phrase = re.sub(r\"\\'ll\", \" will\", phrase)\n",
        "    phrase = re.sub(r\"\\'t\", \" not\", phrase)\n",
        "    phrase = re.sub(r\"\\'ve\", \" have\", phrase)\n",
        "    phrase = re.sub(r\"\\'m\", \" am\", phrase)\n",
        "    return phrase\n",
        "  \n",
        "  \n",
        " # Combining all the above stundents \n",
        "from tqdm import tqdm\n",
        "preprocessed_reviews = []\n",
        "# tqdm is for printing the status bar\n",
        "for sentance in tqdm(final['Text'].values):\n",
        "    sentance = re.sub(r\"http\\S+\", \"\", sentance)\n",
        "    sentance = BeautifulSoup(sentance, 'lxml').get_text()\n",
        "    sentance = decontracted(sentance)\n",
        "    sentance = re.sub(\"\\S*\\d\\S*\", \"\", sentance).strip()\n",
        "    sentance = re.sub('[^A-Za-z]+', ' ', sentance)\n",
        "    # https://gist.github.com/sebleier/554280\n",
        "    #sentance = ' '.join(e.lower() for e in sentance.split() if e.lower() not in stopwords)\n",
        "    preprocessed_reviews.append(sentance.strip())"
      ],
      "execution_count": 0,
      "outputs": [
        {
          "output_type": "stream",
          "text": [
            "Number of data points in our data (525814, 10)\n"
          ],
          "name": "stdout"
        },
        {
          "output_type": "stream",
          "text": [
            "\r  0%|          | 0/364171 [00:00<?, ?it/s]"
          ],
          "name": "stderr"
        },
        {
          "output_type": "stream",
          "text": [
            "(364173, 10)\n",
            "(364171, 10)\n"
          ],
          "name": "stdout"
        },
        {
          "output_type": "stream",
          "text": [
            "100%|██████████| 364171/364171 [02:31<00:00, 2405.69it/s]\n"
          ],
          "name": "stderr"
        }
      ]
    },
    {
      "metadata": {
        "id": "Ke-X-96hjbeg",
        "colab_type": "code",
        "outputId": "2951c188-08c5-43bd-951e-9f52854df549",
        "colab": {
          "base_uri": "https://localhost:8080/",
          "height": 85
        }
      },
      "cell_type": "code",
      "source": [
        "from sklearn.model_selection import train_test_split\n",
        "\n",
        "preprocessed_reviews=preprocessed_reviews[:100000]\n",
        "score=final['Score'][:100000]\n",
        "X_train, X_test, y_train, y_test = train_test_split(preprocessed_reviews, score, test_size=0.33, random_state=42)\n",
        "\n",
        "print(\"X_train shape :: \",len(X_train))\n",
        "print(\"X_test shape  :: \",len(X_test))\n",
        "print(\"X_test shape  :: \",y_train.shape)\n",
        "print(\"X_test shape  :: \",y_test.shape)"
      ],
      "execution_count": 14,
      "outputs": [
        {
          "output_type": "stream",
          "text": [
            "X_train shape ::  67000\n",
            "X_test shape  ::  33000\n",
            "X_test shape  ::  (67000,)\n",
            "X_test shape  ::  (33000,)\n"
          ],
          "name": "stdout"
        }
      ]
    },
    {
      "metadata": {
        "id": "_abJnXBy9g1S",
        "colab_type": "code",
        "outputId": "ff5f627a-6a0b-4685-9d16-64a5a83996e7",
        "colab": {
          "base_uri": "https://localhost:8080/",
          "height": 34
        }
      },
      "cell_type": "code",
      "source": [
        "from collections import Counter\n",
        "\n",
        "words=[i for review in X_train for i in review.split()]\n",
        "frequency_words=Counter(words)\n",
        "#frequency_words.sort()\n",
        "\n",
        "import operator\n",
        "\n",
        "sorted_x = sorted(frequency_words.items(), key=operator.itemgetter(1))\n",
        "sorted_x.reverse()\n",
        "print(len(sorted_x))\n",
        "\n",
        "desc_words=[i[0] for i in sorted_x]\n"
      ],
      "execution_count": 15,
      "outputs": [
        {
          "output_type": "stream",
          "text": [
            "64483\n"
          ],
          "name": "stdout"
        }
      ]
    },
    {
      "metadata": {
        "id": "gpC1hdI4KPGY",
        "colab_type": "code",
        "colab": {}
      },
      "cell_type": "code",
      "source": [
        "desc_words=desc_words[:20000]"
      ],
      "execution_count": 0,
      "outputs": []
    },
    {
      "metadata": {
        "id": "7bJzokl-9umJ",
        "colab_type": "code",
        "outputId": "f45add31-76be-4a9c-cb33-506794927ebd",
        "colab": {
          "base_uri": "https://localhost:8080/",
          "height": 68
        }
      },
      "cell_type": "code",
      "source": [
        "print(type(desc_words))\n",
        "print(len(desc_words))\n",
        "\n",
        "X_train_sentence_in_num=[]\n",
        "list_text=X_train\n",
        "for j in tqdm(range(len(list_text))):\n",
        "  sentence_in_vec=[]\n",
        "  for i in list_text[j].split():\n",
        "    if(i in desc_words):\n",
        "      val=(desc_words.index(i))+1\n",
        "      sentence_in_vec.append(val)\n",
        "    else:\n",
        "      sentence_in_vec.append(0)\n",
        "  #if(i in desc_words):\n",
        "  X_train_sentence_in_num.append(sentence_in_vec)\n"
      ],
      "execution_count": 17,
      "outputs": [
        {
          "output_type": "stream",
          "text": [
            "  0%|          | 20/67000 [00:00<06:21, 175.79it/s]"
          ],
          "name": "stderr"
        },
        {
          "output_type": "stream",
          "text": [
            "<class 'list'>\n",
            "20000\n"
          ],
          "name": "stdout"
        },
        {
          "output_type": "stream",
          "text": [
            "100%|██████████| 67000/67000 [04:44<00:00, 235.13it/s]\n"
          ],
          "name": "stderr"
        }
      ]
    },
    {
      "metadata": {
        "id": "R8_ipNL0s79X",
        "colab_type": "code",
        "outputId": "ee77204f-03fd-4316-ef35-d8f1490cfa94",
        "colab": {
          "base_uri": "https://localhost:8080/",
          "height": 68
        }
      },
      "cell_type": "code",
      "source": [
        "print(type(desc_words))\n",
        "print(len(desc_words))\n",
        "\n",
        "X_test_sentence_in_num=[]\n",
        "list_text=X_test\n",
        "for j in tqdm(range(len(list_text))):\n",
        "  sentence_in_vec=[]\n",
        "  for i in list_text[j].split():\n",
        "    if(i in desc_words):\n",
        "      val=(desc_words.index(i))+1\n",
        "      sentence_in_vec.append(val)\n",
        "    else:\n",
        "      sentence_in_vec.append(0)\n",
        "  #if(i in desc_words):\n",
        "  X_test_sentence_in_num.append(sentence_in_vec)\n"
      ],
      "execution_count": 18,
      "outputs": [
        {
          "output_type": "stream",
          "text": [
            "  0%|          | 29/33000 [00:00<02:00, 272.88it/s]"
          ],
          "name": "stderr"
        },
        {
          "output_type": "stream",
          "text": [
            "<class 'list'>\n",
            "20000\n"
          ],
          "name": "stdout"
        },
        {
          "output_type": "stream",
          "text": [
            "100%|██████████| 33000/33000 [02:25<00:00, 226.59it/s]\n"
          ],
          "name": "stderr"
        }
      ]
    },
    {
      "metadata": {
        "id": "5hG-13DUHCKA",
        "colab_type": "code",
        "outputId": "18619796-dcf4-4030-c347-b8612b0438cf",
        "colab": {
          "base_uri": "https://localhost:8080/",
          "height": 51
        }
      },
      "cell_type": "code",
      "source": [
        "print(len(X_train_sentence_in_num))\n",
        "print(len(X_test_sentence_in_num))"
      ],
      "execution_count": 19,
      "outputs": [
        {
          "output_type": "stream",
          "text": [
            "67000\n",
            "33000\n"
          ],
          "name": "stdout"
        }
      ]
    },
    {
      "metadata": {
        "id": "dsh2uMxS-Bbw",
        "colab_type": "code",
        "outputId": "88baa2be-7497-40ff-b497-96a4f375fa18",
        "colab": {
          "base_uri": "https://localhost:8080/",
          "height": 34
        }
      },
      "cell_type": "code",
      "source": [
        "# truncate and/or pad input sequences\n",
        "max_review_length = 600\n",
        "X_train = sequence.pad_sequences(X_train_sentence_in_num, maxlen=max_review_length)\n",
        "X_test = sequence.pad_sequences(X_test_sentence_in_num, maxlen=max_review_length)\n",
        "\n",
        "print(X_train.shape)\n",
        "#print(X_train[1])"
      ],
      "execution_count": 20,
      "outputs": [
        {
          "output_type": "stream",
          "text": [
            "(67000, 600)\n"
          ],
          "name": "stdout"
        }
      ]
    },
    {
      "metadata": {
        "id": "JGkl36M-dIZk",
        "colab_type": "code",
        "colab": {}
      },
      "cell_type": "code",
      "source": [
        ""
      ],
      "execution_count": 0,
      "outputs": []
    },
    {
      "metadata": {
        "id": "kG3XOymEdJk8",
        "colab_type": "text"
      },
      "cell_type": "markdown",
      "source": [
        "# Model 1\n",
        "* LStm(100)"
      ]
    },
    {
      "metadata": {
        "id": "a43VATUCHTZt",
        "colab_type": "code",
        "outputId": "388abd1c-ac3b-49d4-b24f-1975a061dde0",
        "colab": {
          "base_uri": "https://localhost:8080/",
          "height": 255
        }
      },
      "cell_type": "code",
      "source": [
        "# create the model\n",
        "top_words=20000\n",
        "embedding_vecor_length = 32\n",
        "model = Sequential()\n",
        "model.add(Embedding(top_words, embedding_vecor_length, input_length=max_review_length))\n",
        "model.add(LSTM(100))\n",
        "model.add(Dense(1, activation='sigmoid'))\n",
        "model.compile(loss='binary_crossentropy', optimizer='adam', metrics=['accuracy'])\n",
        "print(model.summary())\n",
        "#Refer: https://datascience.stackexchange.com/questions/10615/number-of-parameters-in-an-lstm-model"
      ],
      "execution_count": 26,
      "outputs": [
        {
          "output_type": "stream",
          "text": [
            "_________________________________________________________________\n",
            "Layer (type)                 Output Shape              Param #   \n",
            "=================================================================\n",
            "embedding_2 (Embedding)      (None, 600, 32)           640000    \n",
            "_________________________________________________________________\n",
            "lstm_2 (LSTM)                (None, 100)               53200     \n",
            "_________________________________________________________________\n",
            "dense_2 (Dense)              (None, 1)                 101       \n",
            "=================================================================\n",
            "Total params: 693,301\n",
            "Trainable params: 693,301\n",
            "Non-trainable params: 0\n",
            "_________________________________________________________________\n",
            "None\n"
          ],
          "name": "stdout"
        }
      ]
    },
    {
      "metadata": {
        "id": "m8yCiQkPHxYt",
        "colab_type": "code",
        "outputId": "a8f01689-ba7c-4966-b59c-97ffab8bc876",
        "colab": {
          "base_uri": "https://localhost:8080/",
          "height": 391
        }
      },
      "cell_type": "code",
      "source": [
        "history =  model.fit(X_train, y_train, nb_epoch=10, batch_size=512  , validation_split=0.2)\n",
        "# Final evaluation of the model\n",
        "scores = model.evaluate(X_test, y_test, verbose=0)\n",
        "print(\"Accuracy: %.2f%%\" % (scores[1]*100))"
      ],
      "execution_count": 28,
      "outputs": [
        {
          "output_type": "stream",
          "text": [
            "Train on 53600 samples, validate on 13400 samples\n",
            "Epoch 1/10\n",
            "53600/53600 [==============================] - 140s 3ms/step - loss: 0.3632 - acc: 0.8602 - val_loss: 0.3487 - val_acc: 0.8575\n",
            "Epoch 2/10\n",
            "53600/53600 [==============================] - 140s 3ms/step - loss: 0.2612 - acc: 0.8862 - val_loss: 0.2530 - val_acc: 0.8933\n",
            "Epoch 3/10\n",
            "53600/53600 [==============================] - 141s 3ms/step - loss: 0.1962 - acc: 0.9202 - val_loss: 0.2380 - val_acc: 0.9010\n",
            "Epoch 4/10\n",
            "53600/53600 [==============================] - 140s 3ms/step - loss: 0.1543 - acc: 0.9392 - val_loss: 0.2210 - val_acc: 0.9169\n",
            "Epoch 5/10\n",
            "53600/53600 [==============================] - 141s 3ms/step - loss: 0.1247 - acc: 0.9539 - val_loss: 0.2290 - val_acc: 0.9070\n",
            "Epoch 6/10\n",
            "53600/53600 [==============================] - 140s 3ms/step - loss: 0.1062 - acc: 0.9623 - val_loss: 0.2324 - val_acc: 0.9167\n",
            "Epoch 7/10\n",
            "53600/53600 [==============================] - 140s 3ms/step - loss: 0.0894 - acc: 0.9704 - val_loss: 0.2614 - val_acc: 0.9181\n",
            "Epoch 8/10\n",
            "53600/53600 [==============================] - 141s 3ms/step - loss: 0.0793 - acc: 0.9733 - val_loss: 0.2686 - val_acc: 0.9141\n",
            "Epoch 9/10\n",
            "53600/53600 [==============================] - 140s 3ms/step - loss: 0.0693 - acc: 0.9780 - val_loss: 0.3110 - val_acc: 0.9119\n",
            "Epoch 10/10\n",
            "53600/53600 [==============================] - 141s 3ms/step - loss: 0.0614 - acc: 0.9808 - val_loss: 0.3119 - val_acc: 0.9119\n",
            "Accuracy: 91.25%\n"
          ],
          "name": "stdout"
        }
      ]
    },
    {
      "metadata": {
        "id": "He2k1RGAdVOP",
        "colab_type": "code",
        "colab": {
          "base_uri": "https://localhost:8080/",
          "height": 139
        },
        "outputId": "1c193857-0989-4438-ad09-ced7224ea4b7"
      },
      "cell_type": "code",
      "source": [
        "history.history.keys()\n",
        "print(history.history['val_loss'])\n",
        "print(history.history['val_acc'])\n",
        "print(history.history['loss'])\n",
        "print(history.history['acc'])\n",
        "scores\n",
        "print(\"loss : %.2f%%\" % (scores[0]*100))\n",
        "print(\"Accuracy: %.2f%%\" % (scores[1]*100))"
      ],
      "execution_count": 29,
      "outputs": [
        {
          "output_type": "stream",
          "text": [
            "[0.3487152955603244, 0.2530329608917236, 0.23802739037506615, 0.22096045949565832, 0.22897370456759608, 0.23242721106579053, 0.26141391597576996, 0.26855400616553293, 0.31095292189228, 0.3119151732725884]\n",
            "[0.8574626866383339, 0.8932835821963069, 0.9010447761549879, 0.9169402986498021, 0.90701492519521, 0.9167164177325234, 0.9181343281802846, 0.914104477434016, 0.9119402983295384, 0.9119402983295384]\n",
            "[0.36324422638807724, 0.2611873199334785, 0.19617704807822384, 0.15431869440559132, 0.1247030643918621, 0.10623054945646827, 0.08944045839914636, 0.07929462131724428, 0.06928426061548404, 0.06139028950858472]\n",
            "[0.8602238805614301, 0.8862499998932454, 0.9201865670930094, 0.9391791044420271, 0.9538992538736827, 0.9623320896589934, 0.9704104478323637, 0.9733395520608816, 0.9779664178392781, 0.9808395523099757]\n",
            "loss : 29.46%\n",
            "Accuracy: 91.25%\n"
          ],
          "name": "stdout"
        }
      ]
    },
    {
      "metadata": {
        "id": "C-nTp-WX9y_A",
        "colab_type": "code",
        "colab": {
          "base_uri": "https://localhost:8080/",
          "height": 294
        },
        "outputId": "811b0a6b-6122-4559-a91c-3a03cf35c7f4"
      },
      "cell_type": "code",
      "source": [
        "val_loss=[0.3487152955603244, 0.2530329608917236, 0.23802739037506615, 0.22096045949565832, 0.22897370456759608, 0.23242721106579053, 0.26141391597576996, 0.26855400616553293, 0.31095292189228, 0.3119151732725884]\n",
        "val_acc=[0.8574626866383339, 0.8932835821963069, 0.9010447761549879, 0.9169402986498021, 0.90701492519521, 0.9167164177325234, 0.9181343281802846, 0.914104477434016, 0.9119402983295384, 0.9119402983295384]\n",
        "train_loss=[0.36324422638807724, 0.2611873199334785, 0.19617704807822384, 0.15431869440559132, 0.1247030643918621, 0.10623054945646827, 0.08944045839914636, 0.07929462131724428, 0.06928426061548404, 0.06139028950858472]\n",
        "train_acc=[0.8602238805614301, 0.8862499998932454, 0.9201865670930094, 0.9391791044420271, 0.9538992538736827, 0.9623320896589934, 0.9704104478323637, 0.9733395520608816, 0.9779664178392781, 0.9808395523099757]\n",
        "\n",
        "\n",
        "\n",
        "\n",
        "epoch=list(range(1,11))\n",
        "\n",
        "fig, ax = plt.subplots()\n",
        "ax.plot(epoch, train_loss,c='g',marker='o',label=\"train_loss\")\n",
        "\n",
        "for i, txt in enumerate(epoch):\n",
        "    ax.annotate(txt, (epoch[i], train_loss[i]))\n",
        "ax.plot(epoch, val_loss,c='r',marker='o',label=\"val_loss\")\n",
        "\n",
        "for i, txt in enumerate(epoch):\n",
        "    ax.annotate((txt,np.round(val_loss[i],2)) , (epoch[i], val_loss[i]))\n",
        "\n",
        "plt.title(\"train  for each epoch\")\n",
        "plt.xlabel(\"epoch\")\n",
        "plt.ylabel(\"loss of train and cv\")\n",
        "plt.legend()\n",
        "plt.grid()\n",
        "plt.show()\n",
        "\n",
        "\n"
      ],
      "execution_count": 36,
      "outputs": [
        {
          "output_type": "display_data",
          "data": {
            "image/png": "[encoded data removed]",
            "text/plain": [
              "<Figure size 432x288 with 1 Axes>"
            ]
          },
          "metadata": {
            "tags": []
          }
        }
      ]
    },
    {
      "metadata": {
        "id": "4aqNbhKf_EGF",
        "colab_type": "code",
        "colab": {
          "base_uri": "https://localhost:8080/",
          "height": 294
        },
        "outputId": "1e8cbe62-43c6-4bbd-ab9e-efd1919ec0ea"
      },
      "cell_type": "code",
      "source": [
        "\n",
        "fig, ax1 = plt.subplots()\n",
        "ax1.plot(epoch, train_acc,c='g',marker='o',label=\"train_loss\")\n",
        "\n",
        "for i, txt in enumerate(epoch):\n",
        "    ax1.annotate(txt, (epoch[i], train_acc[i]))\n",
        "    \n",
        "ax1.plot(epoch, val_acc,c='r',marker='o',label=\"val_loss\")\n",
        "\n",
        "for i, txt in enumerate(epoch):\n",
        "    ax1.annotate((txt,np.round(val_acc[i],2)) , (epoch[i], val_acc[i]))\n",
        "\n",
        "plt.title(\"train  for each epoch\")\n",
        "plt.xlabel(\"epoch\")\n",
        "plt.ylabel(\"Accuracy of train and cv\")\n",
        "plt.legend()\n",
        "plt.grid()\n",
        "plt.show()"
      ],
      "execution_count": 37,
      "outputs": [
        {
          "output_type": "display_data",
          "data": {
            "image/png": "[encoded data removed]",
            "text/plain": [
              "<Figure size 432x288 with 1 Axes>"
            ]
          },
          "metadata": {
            "tags": []
          }
        }
      ]
    },
    {
      "metadata": {
        "id": "SEDnbwaodWHl",
        "colab_type": "text"
      },
      "cell_type": "markdown",
      "source": [
        "# Model \n",
        "* LSTM(100) - epoch(10)"
      ]
    },
    {
      "metadata": {
        "id": "7p2fI0onH0-a",
        "colab_type": "code",
        "outputId": "5962308b-dcff-47b4-e55d-eba8d048d246",
        "colab": {
          "base_uri": "https://localhost:8080/",
          "height": 391
        }
      },
      "cell_type": "code",
      "source": [
        "history = model.fit(X_train, y_train, nb_epoch=10, batch_size=1024 , validation_split=0.2 )\n",
        "# Final evaluation of the model\n",
        "scores = model.evaluate(X_test, y_test, verbose=0)\n",
        "print(\"Accuracy: %.2f%%\" % (scores[1]*100))"
      ],
      "execution_count": 0,
      "outputs": [
        {
          "output_type": "stream",
          "text": [
            "Train on 53600 samples, validate on 13400 samples\n",
            "Epoch 1/10\n",
            "53600/53600 [==============================] - 144s 3ms/step - loss: 0.2627 - acc: 0.8937 - val_loss: 0.3246 - val_acc: 0.8707\n",
            "Epoch 2/10\n",
            "53600/53600 [==============================] - 88s 2ms/step - loss: 0.2392 - acc: 0.8929 - val_loss: 0.2279 - val_acc: 0.9029\n",
            "Epoch 3/10\n",
            "53600/53600 [==============================] - 88s 2ms/step - loss: 0.1849 - acc: 0.9227 - val_loss: 0.2050 - val_acc: 0.9119\n",
            "Epoch 4/10\n",
            "53600/53600 [==============================] - 88s 2ms/step - loss: 0.1653 - acc: 0.9334 - val_loss: 0.2055 - val_acc: 0.9152\n",
            "Epoch 5/10\n",
            "53600/53600 [==============================] - 141s 3ms/step - loss: 0.1502 - acc: 0.9400 - val_loss: 0.2128 - val_acc: 0.9160\n",
            "Epoch 6/10\n",
            "53600/53600 [==============================] - 128s 2ms/step - loss: 0.1376 - acc: 0.9452 - val_loss: 0.2159 - val_acc: 0.9137\n",
            "Epoch 7/10\n",
            "53600/53600 [==============================] - 151s 3ms/step - loss: 0.1243 - acc: 0.9509 - val_loss: 0.2011 - val_acc: 0.9240\n",
            "Epoch 8/10\n",
            "53600/53600 [==============================] - 88s 2ms/step - loss: 0.1059 - acc: 0.9589 - val_loss: 0.1975 - val_acc: 0.9220\n",
            "Epoch 9/10\n",
            "53600/53600 [==============================] - 88s 2ms/step - loss: 0.0948 - acc: 0.9643 - val_loss: 0.2022 - val_acc: 0.9204\n",
            "Epoch 10/10\n",
            "53600/53600 [==============================] - 88s 2ms/step - loss: 0.0851 - acc: 0.9687 - val_loss: 0.2150 - val_acc: 0.9230\n",
            "Accuracy: 91.48%\n"
          ],
          "name": "stdout"
        }
      ]
    },
    {
      "metadata": {
        "id": "tqWeY2POytYW",
        "colab_type": "code",
        "outputId": "3583dbb9-218e-4474-9064-c47b48027abc",
        "colab": {
          "base_uri": "https://localhost:8080/",
          "height": 139
        }
      },
      "cell_type": "code",
      "source": [
        "history.history.keys()\n",
        "print(history.history['val_loss'])\n",
        "print(history.history['val_acc'])\n",
        "print(history.history['loss'])\n",
        "print(history.history['loss'])\n",
        "scores\n",
        "print(\"loss : %.2f%%\" % (scores[0]*100))\n",
        "print(\"Accuracy: %.2f%%\" % (scores[1]*100))"
      ],
      "execution_count": 0,
      "outputs": [
        {
          "output_type": "stream",
          "text": [
            "[0.32455565870697817, 0.22791154921944462, 0.20499946213480252, 0.20551191191175092, 0.21275373498895275, 0.21594194265443886, 0.2011096647515226, 0.1975470318901005, 0.20219409488919957, 0.21503558000966685]\n",
            "[0.8707462687278862, 0.9029104477967789, 0.9119402985430476, 0.9152238807037695, 0.9159701492181465, 0.9137313433191669, 0.9240298505683443, 0.92201492519521, 0.9204477610872752, 0.9229850747692051]\n",
            "[0.26267628030990486, 0.23915745393553778, 0.18494821048494595, 0.16534929706979154, 0.15015576346596676, 0.13758256768112753, 0.12425684476966288, 0.1059092135749646, 0.09482933028420405, 0.08510983836295]\n",
            "[0.26267628030990486, 0.23915745393553778, 0.18494821048494595, 0.16534929706979154, 0.15015576346596676, 0.13758256768112753, 0.12425684476966288, 0.1059092135749646, 0.09482933028420405, 0.08510983836295]\n",
            "loss : 25.09%\n",
            "Accuracy: 91.48%\n"
          ],
          "name": "stdout"
        }
      ]
    },
    {
      "metadata": {
        "id": "tsPCm9xmDQ7Q",
        "colab_type": "text"
      },
      "cell_type": "markdown",
      "source": [
        "### plot bewteen loss(train and val) and Epochs"
      ]
    },
    {
      "metadata": {
        "id": "M1VPvWJmByRE",
        "colab_type": "code",
        "colab": {
          "base_uri": "https://localhost:8080/",
          "height": 294
        },
        "outputId": "3cc2ace9-1bd0-4a87-cc9a-8041f9798694"
      },
      "cell_type": "code",
      "source": [
        "val_loss=[0.32455565870697817, 0.22791154921944462, 0.20499946213480252, 0.20551191191175092, 0.21275373498895275, 0.21594194265443886, 0.2011096647515226, 0.1975470318901005, 0.20219409488919957, 0.21503558000966685]\n",
        "train_loss=[0.26267628030990486, 0.23915745393553778, 0.18494821048494595, 0.16534929706979154, 0.15015576346596676, 0.13758256768112753, 0.12425684476966288, 0.1059092135749646, 0.09482933028420405, 0.08510983836295]\n",
        "\n",
        "epoch=list(range(1,11))\n",
        "\n",
        "fig, ax = plt.subplots()\n",
        "ax.plot(epoch, train_loss,c='g',marker='o',label=\"train_loss\")\n",
        "\n",
        "for i, txt in enumerate(epoch):\n",
        "    ax.annotate(txt, (epoch[i], train_loss[i]))\n",
        "ax.plot(epoch, val_loss,c='r',marker='o',label=\"val_loss\")\n",
        "\n",
        "for i, txt in enumerate(epoch):\n",
        "    ax.annotate((txt,np.round(val_loss[i],2)) , (epoch[i], val_loss[i]))\n",
        "\n",
        "plt.title(\"train  for each alpha\")\n",
        "plt.xlabel(\"epoch\")\n",
        "plt.ylabel(\"loss of train and cv\")\n",
        "plt.legend()\n",
        "plt.grid()\n",
        "plt.show()"
      ],
      "execution_count": 5,
      "outputs": [
        {
          "output_type": "display_data",
          "data": {
            "image/png": "[encoded data removed]",
            "text/plain": [
              "<Figure size 432x288 with 1 Axes>"
            ]
          },
          "metadata": {
            "tags": []
          }
        }
      ]
    },
    {
      "metadata": {
        "id": "ZY_o5Lx0dfwY",
        "colab_type": "text"
      },
      "cell_type": "markdown",
      "source": [
        "# Model \n",
        "* LSTM(100) - epoch(20) -BatchSize(1024)"
      ]
    },
    {
      "metadata": {
        "id": "wZRLE_F-Hnku",
        "colab_type": "code",
        "outputId": "93fc222f-caf5-4d75-98d6-05ed2d4114dd",
        "colab": {
          "base_uri": "https://localhost:8080/",
          "height": 731
        }
      },
      "cell_type": "code",
      "source": [
        "history_epoch20 = model.fit(X_train, y_train, nb_epoch=20, batch_size=1024 , validation_split=0.2 )\n",
        "# Final evaluation of the model\n",
        "scores_epoch20 = model.evaluate(X_test, y_test, verbose=0)\n",
        "print(\"Accuracy: %.2f%%\" % (scores_epoch20[1]*100))"
      ],
      "execution_count": 38,
      "outputs": [
        {
          "output_type": "stream",
          "text": [
            "Train on 53600 samples, validate on 13400 samples\n",
            "Epoch 1/20\n",
            "53600/53600 [==============================] - 87s 2ms/step - loss: 0.0467 - acc: 0.9872 - val_loss: 0.3305 - val_acc: 0.9124\n",
            "Epoch 2/20\n",
            "53600/53600 [==============================] - 87s 2ms/step - loss: 0.0409 - acc: 0.9892 - val_loss: 0.3414 - val_acc: 0.9101\n",
            "Epoch 3/20\n",
            "53600/53600 [==============================] - 87s 2ms/step - loss: 0.0367 - acc: 0.9909 - val_loss: 0.3864 - val_acc: 0.9069\n",
            "Epoch 4/20\n",
            "53600/53600 [==============================] - 86s 2ms/step - loss: 0.0335 - acc: 0.9918 - val_loss: 0.3909 - val_acc: 0.9078\n",
            "Epoch 5/20\n",
            "53600/53600 [==============================] - 86s 2ms/step - loss: 0.0295 - acc: 0.9929 - val_loss: 0.3869 - val_acc: 0.9062\n",
            "Epoch 6/20\n",
            "53600/53600 [==============================] - 87s 2ms/step - loss: 0.0329 - acc: 0.9918 - val_loss: 0.3894 - val_acc: 0.9057\n",
            "Epoch 7/20\n",
            "53600/53600 [==============================] - 86s 2ms/step - loss: 0.0277 - acc: 0.9932 - val_loss: 0.4083 - val_acc: 0.9056\n",
            "Epoch 8/20\n",
            "53600/53600 [==============================] - 87s 2ms/step - loss: 0.0281 - acc: 0.9926 - val_loss: 0.4102 - val_acc: 0.9036\n",
            "Epoch 9/20\n",
            "53600/53600 [==============================] - 86s 2ms/step - loss: 0.0253 - acc: 0.9939 - val_loss: 0.4282 - val_acc: 0.9058\n",
            "Epoch 10/20\n",
            "53600/53600 [==============================] - 86s 2ms/step - loss: 0.0260 - acc: 0.9933 - val_loss: 0.4689 - val_acc: 0.9041\n",
            "Epoch 11/20\n",
            "53600/53600 [==============================] - 86s 2ms/step - loss: 0.0226 - acc: 0.9948 - val_loss: 0.4459 - val_acc: 0.9035\n",
            "Epoch 12/20\n",
            "53600/53600 [==============================] - 86s 2ms/step - loss: 0.0210 - acc: 0.9954 - val_loss: 0.4344 - val_acc: 0.9020\n",
            "Epoch 13/20\n",
            "53600/53600 [==============================] - 86s 2ms/step - loss: 0.0204 - acc: 0.9955 - val_loss: 0.5145 - val_acc: 0.9033\n",
            "Epoch 14/20\n",
            "53600/53600 [==============================] - 86s 2ms/step - loss: 0.0216 - acc: 0.9949 - val_loss: 0.4836 - val_acc: 0.9036\n",
            "Epoch 15/20\n",
            "53600/53600 [==============================] - 86s 2ms/step - loss: 0.0179 - acc: 0.9962 - val_loss: 0.4968 - val_acc: 0.9036\n",
            "Epoch 16/20\n",
            "53600/53600 [==============================] - 86s 2ms/step - loss: 0.0187 - acc: 0.9954 - val_loss: 0.4772 - val_acc: 0.9046\n",
            "Epoch 17/20\n",
            "53600/53600 [==============================] - 86s 2ms/step - loss: 0.0157 - acc: 0.9968 - val_loss: 0.5305 - val_acc: 0.9028\n",
            "Epoch 18/20\n",
            "53600/53600 [==============================] - 86s 2ms/step - loss: 0.0164 - acc: 0.9966 - val_loss: 0.5136 - val_acc: 0.9024\n",
            "Epoch 19/20\n",
            "53600/53600 [==============================] - 86s 2ms/step - loss: 0.0141 - acc: 0.9973 - val_loss: 0.5355 - val_acc: 0.9032\n",
            "Epoch 20/20\n",
            "53600/53600 [==============================] - 86s 2ms/step - loss: 0.0129 - acc: 0.9977 - val_loss: 0.5206 - val_acc: 0.9026\n",
            "Accuracy: 90.33%\n"
          ],
          "name": "stdout"
        }
      ]
    },
    {
      "metadata": {
        "id": "qZUIoJ-KeWZr",
        "colab_type": "code",
        "outputId": "3640ede3-2b18-494e-9b90-4b7bb297f933",
        "colab": {
          "base_uri": "https://localhost:8080/",
          "height": 139
        }
      },
      "cell_type": "code",
      "source": [
        "history_epoch20.history.keys()\n",
        "print(history_epoch20.history['val_loss'])\n",
        "print(history_epoch20.history['val_acc'])\n",
        "print(history_epoch20.history['loss'])\n",
        "print(history_epoch20.history['acc'])\n",
        "scores\n",
        "print(\"loss : %.2f%%\" % (scores[0]*100))\n",
        "print(\"Accuracy: %.2f%%\" % (scores[1]*100))\n"
      ],
      "execution_count": 42,
      "outputs": [
        {
          "output_type": "stream",
          "text": [
            "[0.33054351805751003, 0.3413731307414041, 0.3864407458056265, 0.39091770511064955, 0.38685415706527765, 0.38943654278321055, 0.4082662701784675, 0.41016663710572826, 0.42824954108515784, 0.4689083670324354, 0.44593090909630506, 0.4343883624984257, 0.5145191513780337, 0.48358026371073365, 0.49675003299072606, 0.47715033251847794, 0.5304994242048975, 0.5136028800615624, 0.5354603843368702, 0.5206351370597954]\n",
            "[0.9123880595235683, 0.9100746266877473, 0.9068656714638668, 0.9077611938519264, 0.9061940297439917, 0.9057462685499619, 0.9055970147474488, 0.9035820894454842, 0.9058208954156335, 0.904104477434016, 0.9035074625798126, 0.9020149253375495, 0.9032835819827977, 0.9035820894454842, 0.9035820895878237, 0.904552238841555, 0.9028358208599375, 0.9023880597370774, 0.9032089552594654, 0.902611940405262]\n",
            "[0.04667290706910304, 0.04088750344381403, 0.036674711704254154, 0.03346883856316111, 0.02946827065588823, 0.03291236470550744, 0.02768728069627463, 0.028130231784350836, 0.025270247439395137, 0.02603105122418101, 0.022641155493737602, 0.020952905507674858, 0.02039257435711907, 0.021593344244383163, 0.017943981433037055, 0.018727007913889725, 0.015746384194926983, 0.016387049886328515, 0.014108134739434541, 0.012886344114624297]\n",
            "[0.9871828357141409, 0.9892164178036932, 0.9908582088128844, 0.9917537313432836, 0.9929291044420271, 0.9917910448117042, 0.9931716416487053, 0.9926492538380979, 0.993936567199764, 0.9933022386280458, 0.9947574626865672, 0.9953917908668518, 0.9954850746268656, 0.9948507462686568, 0.9961567162399861, 0.9954477610161055, 0.9968283582089552, 0.9966231343283583, 0.9972574626865671, 0.9977425371355085]\n",
            "loss : 29.46%\n",
            "Accuracy: 91.25%\n"
          ],
          "name": "stdout"
        }
      ]
    },
    {
      "metadata": {
        "id": "gSE7Pnp3DavA",
        "colab_type": "text"
      },
      "cell_type": "markdown",
      "source": [
        ""
      ]
    },
    {
      "metadata": {
        "id": "r1jg8C4gDbnd",
        "colab_type": "code",
        "colab": {
          "base_uri": "https://localhost:8080/",
          "height": 294
        },
        "outputId": "cb1990d3-9fd3-41bc-9310-7b0abc0266e4"
      },
      "cell_type": "code",
      "source": [
        "val_loss=[0.33054351805751003, 0.3413731307414041, 0.3864407458056265, 0.39091770511064955, 0.38685415706527765, 0.38943654278321055, 0.4082662701784675, 0.41016663710572826, 0.42824954108515784, 0.4689083670324354, 0.44593090909630506, 0.4343883624984257, 0.5145191513780337, 0.48358026371073365, 0.49675003299072606, 0.47715033251847794, 0.5304994242048975, 0.5136028800615624, 0.5354603843368702, 0.5206351370597954]\n",
        "val_acc=[0.9123880595235683, 0.9100746266877473, 0.9068656714638668, 0.9077611938519264, 0.9061940297439917, 0.9057462685499619, 0.9055970147474488, 0.9035820894454842, 0.9058208954156335, 0.904104477434016, 0.9035074625798126, 0.9020149253375495, 0.9032835819827977, 0.9035820894454842, 0.9035820895878237, 0.904552238841555, 0.9028358208599375, 0.9023880597370774, 0.9032089552594654, 0.902611940405262]\n",
        "train_loss=[0.04667290706910304, 0.04088750344381403, 0.036674711704254154, 0.03346883856316111, 0.02946827065588823, 0.03291236470550744, 0.02768728069627463, 0.028130231784350836, 0.025270247439395137, 0.02603105122418101, 0.022641155493737602, 0.020952905507674858, 0.02039257435711907, 0.021593344244383163, 0.017943981433037055, 0.018727007913889725, 0.015746384194926983, 0.016387049886328515, 0.014108134739434541, 0.012886344114624297]\n",
        "train_acc=[0.9871828357141409, 0.9892164178036932, 0.9908582088128844, 0.9917537313432836, 0.9929291044420271, 0.9917910448117042, 0.9931716416487053, 0.9926492538380979, 0.993936567199764, 0.9933022386280458, 0.9947574626865672, 0.9953917908668518, 0.9954850746268656, 0.9948507462686568, 0.9961567162399861, 0.9954477610161055, 0.9968283582089552, 0.9966231343283583, 0.9972574626865671, 0.9977425371355085]\n",
        "\n",
        "epoch=list(range(1,21))\n",
        "\n",
        "fig, ax = plt.subplots()\n",
        "ax.plot(epoch, train_loss,c='g',marker='o',label=\"train_loss\")\n",
        "\n",
        "for i, txt in enumerate(epoch):\n",
        "    ax.annotate(txt, (epoch[i], train_loss[i]))\n",
        "ax.plot(epoch, val_loss,c='r',marker='o',label=\"val_loss\")\n",
        "\n",
        "for i, txt in enumerate(epoch):\n",
        "    ax.annotate((txt,np.round(val_loss[i],2)) , (epoch[i], val_loss[i]))\n",
        "\n",
        "plt.title(\"train  for each alpha\")\n",
        "plt.xlabel(\"epoch\")\n",
        "plt.ylabel(\"loss of train and cv\")\n",
        "plt.legend()\n",
        "plt.grid()\n",
        "plt.show()"
      ],
      "execution_count": 44,
      "outputs": [
        {
          "output_type": "display_data",
          "data": {
            "image/png": "[encoded data removed]",
            "text/plain": [
              "<Figure size 432x288 with 1 Axes>"
            ]
          },
          "metadata": {
            "tags": []
          }
        }
      ]
    },
    {
      "metadata": {
        "id": "6gG_qDC8Dl7Q",
        "colab_type": "code",
        "colab": {
          "base_uri": "https://localhost:8080/",
          "height": 294
        },
        "outputId": "cc3cdd6a-1908-4056-c5dc-9938aef040c7"
      },
      "cell_type": "code",
      "source": [
        "\n",
        "fig, ax1 = plt.subplots()\n",
        "ax1.plot(epoch, train_acc,c='g',marker='o',label=\"train_acc\")\n",
        "\n",
        "for i, txt in enumerate(epoch):\n",
        "    ax1.annotate(txt, (epoch[i], train_acc[i]))\n",
        "    \n",
        "ax1.plot(epoch, val_acc,c='r',marker='o',label=\"val_acc\")\n",
        "\n",
        "for i, txt in enumerate(epoch):\n",
        "    ax1.annotate((txt,np.round(val_acc[i],2)) , (epoch[i], val_acc[i]))\n",
        "\n",
        "plt.title(\"train  for each epoch\")\n",
        "plt.xlabel(\"epoch\")\n",
        "plt.ylabel(\"Accuracy of train and cv\")\n",
        "plt.legend()\n",
        "plt.grid()\n",
        "plt.show()"
      ],
      "execution_count": 46,
      "outputs": [
        {
          "output_type": "display_data",
          "data": {
            "image/png": "[encoded data removed]",
            "text/plain": [
              "<Figure size 432x288 with 1 Axes>"
            ]
          },
          "metadata": {
            "tags": []
          }
        }
      ]
    },
    {
      "metadata": {
        "id": "KRnXrjbzdxKX",
        "colab_type": "text"
      },
      "cell_type": "markdown",
      "source": [
        "# Model \n",
        "* LSTM(32) \n",
        "* LSTM(32) \n",
        "* epoch(20) -BatchSize(1024)"
      ]
    },
    {
      "metadata": {
        "id": "ZJDuvQMxITct",
        "colab_type": "code",
        "outputId": "dbb9b525-c1a5-49be-81cd-bd008a55ffe9",
        "colab": {
          "base_uri": "https://localhost:8080/",
          "height": 289
        }
      },
      "cell_type": "code",
      "source": [
        "# create the model\n",
        "top_words=20000\n",
        "embedding_vecor_length = 32\n",
        "\n",
        "model = Sequential()\n",
        "model.add(Embedding(top_words, embedding_vecor_length, input_length=max_review_length))\n",
        "model.add(LSTM(32, return_sequences=True))\n",
        "model.add(LSTM(32))\n",
        "model.add(Dense(1, activation='sigmoid'))\n",
        "model.compile(loss='binary_crossentropy', optimizer='adam', metrics=['accuracy'])\n",
        "print(model.summary())\n",
        "#Refer: https://datascience.stackexchange.com/questions/10615/number-of-parameters-in-an-lstm-model\n",
        "\n"
      ],
      "execution_count": 0,
      "outputs": [
        {
          "output_type": "stream",
          "text": [
            "_________________________________________________________________\n",
            "Layer (type)                 Output Shape              Param #   \n",
            "=================================================================\n",
            "embedding_2 (Embedding)      (None, 600, 32)           640000    \n",
            "_________________________________________________________________\n",
            "lstm_2 (LSTM)                (None, 600, 32)           8320      \n",
            "_________________________________________________________________\n",
            "lstm_3 (LSTM)                (None, 32)                8320      \n",
            "_________________________________________________________________\n",
            "dense_2 (Dense)              (None, 1)                 33        \n",
            "=================================================================\n",
            "Total params: 656,673\n",
            "Trainable params: 656,673\n",
            "Non-trainable params: 0\n",
            "_________________________________________________________________\n",
            "None\n"
          ],
          "name": "stdout"
        }
      ]
    },
    {
      "metadata": {
        "id": "X9kWDYDnR2x9",
        "colab_type": "code",
        "outputId": "ee48a943-033e-42a3-f848-675be906f67d",
        "colab": {
          "base_uri": "https://localhost:8080/",
          "height": 554
        }
      },
      "cell_type": "code",
      "source": [
        "history_epoch10_LSTM2 = model.fit(X_train, y_train, nb_epoch=10, batch_size=1024 , validation_split=0.2 )\n",
        "# Final evaluation of the model\n",
        "scores_epoch20 = model.evaluate(X_test, y_test, verbose=0)\n",
        "print(\"Accuracy: %.2f%%\" % (scores_epoch10_LSTM2[1]*100))"
      ],
      "execution_count": 0,
      "outputs": [
        {
          "output_type": "stream",
          "text": [
            "Train on 53600 samples, validate on 13400 samples\n",
            "Epoch 1/10\n",
            "53600/53600 [==============================] - 151s 3ms/step - loss: 0.4855 - acc: 0.8418 - val_loss: 0.3974 - val_acc: 0.8520\n",
            "Epoch 2/10\n",
            "53600/53600 [==============================] - 150s 3ms/step - loss: 0.3296 - acc: 0.8654 - val_loss: 0.2994 - val_acc: 0.8717\n",
            "Epoch 3/10\n",
            "53600/53600 [==============================] - 150s 3ms/step - loss: 0.2358 - acc: 0.9032 - val_loss: 0.2549 - val_acc: 0.8956\n",
            "Epoch 4/10\n",
            "53600/53600 [==============================] - 206s 4ms/step - loss: 0.1907 - acc: 0.9254 - val_loss: 0.2436 - val_acc: 0.8992\n",
            "Epoch 5/10\n",
            "53600/53600 [==============================] - 198s 4ms/step - loss: 0.1570 - acc: 0.9394 - val_loss: 0.2295 - val_acc: 0.9130\n",
            "Epoch 6/10\n",
            "53600/53600 [==============================] - 155s 3ms/step - loss: 0.1288 - acc: 0.9530 - val_loss: 0.2374 - val_acc: 0.9142\n",
            "Epoch 7/10\n",
            "53600/53600 [==============================] - 154s 3ms/step - loss: 0.1102 - acc: 0.9619 - val_loss: 0.2416 - val_acc: 0.9142\n",
            "Epoch 8/10\n",
            "53600/53600 [==============================] - 158s 3ms/step - loss: 0.0958 - acc: 0.9688 - val_loss: 0.2605 - val_acc: 0.9107\n",
            "Epoch 9/10\n",
            "53600/53600 [==============================] - 150s 3ms/step - loss: 0.0838 - acc: 0.9742 - val_loss: 0.2739 - val_acc: 0.9124\n",
            "Epoch 10/10\n",
            "53600/53600 [==============================] - 151s 3ms/step - loss: 0.0753 - acc: 0.9769 - val_loss: 0.2979 - val_acc: 0.9081\n"
          ],
          "name": "stdout"
        },
        {
          "output_type": "error",
          "ename": "NameError",
          "evalue": "ignored",
          "traceback": [
            "\u001b[0;31m---------------------------------------------------------------------------\u001b[0m",
            "\u001b[0;31mNameError\u001b[0m                                 Traceback (most recent call last)",
            "\u001b[0;32m<ipython-input-26-4f6f23914563>\u001b[0m in \u001b[0;36m<module>\u001b[0;34m()\u001b[0m\n\u001b[1;32m      2\u001b[0m \u001b[0;31m# Final evaluation of the model\u001b[0m\u001b[0;34m\u001b[0m\u001b[0;34m\u001b[0m\u001b[0;34m\u001b[0m\u001b[0m\n\u001b[1;32m      3\u001b[0m \u001b[0mscores_epoch20\u001b[0m \u001b[0;34m=\u001b[0m \u001b[0mmodel\u001b[0m\u001b[0;34m.\u001b[0m\u001b[0mevaluate\u001b[0m\u001b[0;34m(\u001b[0m\u001b[0mX_test\u001b[0m\u001b[0;34m,\u001b[0m \u001b[0my_test\u001b[0m\u001b[0;34m,\u001b[0m \u001b[0mverbose\u001b[0m\u001b[0;34m=\u001b[0m\u001b[0;36m0\u001b[0m\u001b[0;34m)\u001b[0m\u001b[0;34m\u001b[0m\u001b[0;34m\u001b[0m\u001b[0m\n\u001b[0;32m----> 4\u001b[0;31m \u001b[0mprint\u001b[0m\u001b[0;34m(\u001b[0m\u001b[0;34m\"Accuracy: %.2f%%\"\u001b[0m \u001b[0;34m%\u001b[0m \u001b[0;34m(\u001b[0m\u001b[0mscores_epoch10_LSTM2\u001b[0m\u001b[0;34m[\u001b[0m\u001b[0;36m1\u001b[0m\u001b[0;34m]\u001b[0m\u001b[0;34m*\u001b[0m\u001b[0;36m100\u001b[0m\u001b[0;34m)\u001b[0m\u001b[0;34m)\u001b[0m\u001b[0;34m\u001b[0m\u001b[0;34m\u001b[0m\u001b[0m\n\u001b[0m",
            "\u001b[0;31mNameError\u001b[0m: name 'scores_epoch10_LSTM2' is not defined"
          ]
        }
      ]
    },
    {
      "metadata": {
        "id": "sp77rB4CSCXX",
        "colab_type": "code",
        "outputId": "f8865fe0-07ca-41f8-90d5-3d7e422032c2",
        "colab": {
          "base_uri": "https://localhost:8080/",
          "height": 156
        }
      },
      "cell_type": "code",
      "source": [
        "scores_epoch10_LSTM2=scores_epoch20\n",
        "print(\"Accuracy: %.2f%%\" % (scores_epoch20[1]*100))\n",
        "history_epoch10_LSTM2\n",
        "\n",
        "\n",
        "history_epoch10_LSTM2.history.keys()\n",
        "print(history_epoch10_LSTM2.history['val_loss'])\n",
        "print(history_epoch10_LSTM2.history['val_acc'])\n",
        "print(history_epoch10_LSTM2.history['loss'])\n",
        "print(history_epoch10_LSTM2.history['loss'])\n",
        "scores\n",
        "print(\"loss : %.2f%%\" % (scores_epoch10_LSTM2[0]*100))\n",
        "print(\"Accuracy: %.2f%%\" % (scores_epoch10_LSTM2[1]*100))"
      ],
      "execution_count": 0,
      "outputs": [
        {
          "output_type": "stream",
          "text": [
            "Accuracy: 91.01%\n",
            "[0.3974162083241477, 0.29942880187461623, 0.25494988042027206, 0.243599962965766, 0.22954293419620883, 0.2374324997592328, 0.24161165837921314, 0.2604869239365877, 0.27393566471427233, 0.2978505916292988]\n",
            "[0.8520149253019647, 0.8717164180883721, 0.8955970148186185, 0.8991791044420271, 0.9129850746980354, 0.9141791046199514, 0.9141791042996876, 0.9107462684787921, 0.9123880595235683, 0.908059701314613]\n",
            "[0.48547945456718333, 0.3295929052758573, 0.2358010243301961, 0.19074283160380462, 0.15698250969844077, 0.1288127305970263, 0.11019236481456614, 0.0958224734486039, 0.08378641776629349, 0.07534008701123408]\n",
            "[0.48547945456718333, 0.3295929052758573, 0.2358010243301961, 0.19074283160380462, 0.15698250969844077, 0.1288127305970263, 0.11019236481456614, 0.0958224734486039, 0.08378641776629349, 0.07534008701123408]\n",
            "loss : 28.42%\n",
            "Accuracy: 91.01%\n"
          ],
          "name": "stdout"
        }
      ]
    },
    {
      "metadata": {
        "id": "ER6qPz3REK12",
        "colab_type": "code",
        "colab": {
          "base_uri": "https://localhost:8080/",
          "height": 294
        },
        "outputId": "12887c95-68e3-4515-b7c1-1e79ddf3bab8"
      },
      "cell_type": "code",
      "source": [
        "val_loss=[0.3974162083241477, 0.29942880187461623, 0.25494988042027206, 0.243599962965766, 0.22954293419620883, 0.2374324997592328, 0.24161165837921314, 0.2604869239365877, 0.27393566471427233, 0.2978505916292988]\n",
        "train_loss=[0.48547945456718333, 0.3295929052758573, 0.2358010243301961, 0.19074283160380462, 0.15698250969844077, 0.1288127305970263, 0.11019236481456614, 0.0958224734486039, 0.08378641776629349, 0.07534008701123408]\n",
        "\n",
        "\n",
        "\n",
        "epoch=list(range(1,11))\n",
        "\n",
        "fig, ax = plt.subplots()\n",
        "ax.plot(epoch, train_loss,c='g',marker='o',label=\"train_loss\")\n",
        "\n",
        "for i, txt in enumerate(epoch):\n",
        "    ax.annotate(txt, (epoch[i], train_loss[i]))\n",
        "ax.plot(epoch, val_loss,c='r',marker='o',label=\"val_loss\")\n",
        "\n",
        "for i, txt in enumerate(epoch):\n",
        "    ax.annotate((txt,np.round(val_loss[i],2)) , (epoch[i], val_loss[i]))\n",
        "\n",
        "plt.title(\"train  for each alpha\")\n",
        "plt.xlabel(\"epoch\")\n",
        "plt.ylabel(\"loss of train and cv\")\n",
        "plt.legend()\n",
        "plt.grid()\n",
        "plt.show()"
      ],
      "execution_count": 8,
      "outputs": [
        {
          "output_type": "display_data",
          "data": {
            "image/png": "[encoded data removed]",
            "text/plain": [
              "<Figure size 432x288 with 1 Axes>"
            ]
          },
          "metadata": {
            "tags": []
          }
        }
      ]
    },
    {
      "metadata": {
        "id": "C4ax2taifIcE",
        "colab_type": "text"
      },
      "cell_type": "markdown",
      "source": [
        "# Pretty Table"
      ]
    },
    {
      "metadata": {
        "id": "nMe9OygDYjWs",
        "colab_type": "code",
        "outputId": "20279e2c-98b7-4383-b419-994631118845",
        "colab": {
          "base_uri": "https://localhost:8080/",
          "height": 153
        }
      },
      "cell_type": "code",
      "source": [
        "\n",
        "from prettytable import PrettyTable\n",
        "    \n",
        "x = PrettyTable()\n",
        "\n",
        "x.field_names = [\"No_Of_Layers\", 'LSTM_Units' , 'Epoch', 'Batch_Size' , \"Test_acc\"]\n",
        "\n",
        "x.add_row([\"1\", 100 , 10   , 512  , '91.25%' ])\n",
        "x.add_row([\"1\", 100 , 10  , 1024 , '91.48%' ])\n",
        "x.add_row([\"1\", 100 , 20 , 1024 , '90.58%' ])\n",
        "x.add_row([\"2\", [32,32] , 10 , 1024  , '91.01%' ])\n",
        "\n",
        "\n",
        "\n",
        "print(x)"
      ],
      "execution_count": 47,
      "outputs": [
        {
          "output_type": "stream",
          "text": [
            "+--------------+------------+-------+------------+----------+\n",
            "| No_Of_Layers | LSTM_Units | Epoch | Batch_Size | Test_acc |\n",
            "+--------------+------------+-------+------------+----------+\n",
            "|      1       |    100     |   10  |    512     |  91.25%  |\n",
            "|      1       |    100     |   10  |    1024    |  91.48%  |\n",
            "|      1       |    100     |   20  |    1024    |  90.58%  |\n",
            "|      2       |  [32, 32]  |   10  |    1024    |  91.01%  |\n",
            "+--------------+------------+-------+------------+----------+\n"
          ],
          "name": "stdout"
        }
      ]
    },
    {
      "metadata": {
        "id": "SYTrVO36CTMl",
        "colab_type": "text"
      },
      "cell_type": "markdown",
      "source": [
        "### Summary  :: \n",
        "* LSTM -100 , Epoch -10 , Batch-Size -512\n",
        "    * \n",
        "from 1 to  4 epochs val_loss decrease  and from 4 to 9 Epochs val_loss increaing  and from 9 to 10 Epochs val_loss got stable\n",
        "* LSTM -100 , Epoch -10 , Batch-Size -1024\n",
        "  * from 1 to  3 epochs val_loss decrease linearlly  and from 3 to 10 Epoch loss got stable\n",
        "* LSTM -100 , Epoch -20 , Batch-Size -1024\n",
        "  *  val_loss for epoch 1 to 13 incresing linearly  and then  from 13 to 16 decresing and then agin  from 16 to 20 val_loss increaisng \n",
        "* LSTM -32 ,LSTM -32 , Epoch -10 , Batch-Size - 1024\n",
        "  * from epoch 1 to 5 loss decreased linreally  and from epochs 5 to 10 loss tending to increas"
      ]
    }
  ]
}